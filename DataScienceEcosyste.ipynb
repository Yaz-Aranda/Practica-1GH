{
 "cells": [
  {
   "cell_type": "markdown",
   "id": "57ce2e30-305d-4c10-af36-1909762d920f",
   "metadata": {},
   "source": [
    "# Data Science Tools and Ecosystem"
   ]
  },
  {
   "cell_type": "markdown",
   "id": "3c55d853-a875-48d4-8d7d-657a7873f5f0",
   "metadata": {},
   "source": [
    "En este cuaderno, se resumen las herramientas y ecosistemas de ciencia de datos."
   ]
  },
  {
   "cell_type": "markdown",
   "id": "3cb04f6a-3911-4f01-8c85-18595448b45b",
   "metadata": {},
   "source": [
    "***Objetivos:***  \n",
    "*Listar lenguajes populares para Ciencia de Datos.  \n",
    "*Listar bibliotecas más utilizadas en la Ciencia de Datos.  \n",
    "*Realizar operaciones básicas."
   ]
  },
  {
   "cell_type": "markdown",
   "id": "8a848cc8-24ae-480f-976c-fd7a5afc6cd9",
   "metadata": {},
   "source": [
    "Algunos de los lenguajes populares que utilizan los científicos de datos son:\n",
    "1. Python\n",
    "2. R\n",
    "3. SQL\n",
    "4. Apache Spark\n",
    "5. Scala"
   ]
  },
  {
   "cell_type": "markdown",
   "id": "99644f92-f7ad-41c3-aad3-0d6f618e1dc7",
   "metadata": {},
   "source": [
    "Algunas de las bibliotecas comúnmente utilizadas por los científicos de datos incluyen:\n",
    "1. Pandas\n",
    "2. Numpy\n",
    "3. Matplotlib\n",
    "4. Seaborn\n",
    "5. Scikit-learn\n",
    "6. Keras\n",
    "7. TensorFlow\n",
    "8. PyTorch\n",
    "9. ggplot"
   ]
  },
  {
   "cell_type": "markdown",
   "id": "9ce89d83-e56c-4bff-894e-c76ff65414e8",
   "metadata": {},
   "source": [
    "|Tools for Data Science|\n",
    "|------------------|\n",
    "|Data visualitation|\n",
    "|Model Building|\n",
    "|Model deployment|"
   ]
  },
  {
   "cell_type": "markdown",
   "id": "aee248b5-fbb9-4a56-9d4f-aed838eba70c",
   "metadata": {},
   "source": [
    "### A continuación, se presentan algunos ejemplos de evaluación de expresiones aritméticas en Python:\n",
    "Suma: 5+26   \n",
    "Resta 5*45   \n",
    "Producto 34*2    \n",
    "Cociente 46/2\n"
   ]
  },
  {
   "cell_type": "code",
   "execution_count": 3,
   "id": "3bc1c898-5c6b-4076-8b50-26f24c381069",
   "metadata": {},
   "outputs": [
    {
     "data": {
      "text/plain": [
       "17"
      ]
     },
     "execution_count": 3,
     "metadata": {},
     "output_type": "execute_result"
    }
   ],
   "source": [
    "# Esta es una expresión aritmética simple para multiplicar y luego sumar enteros.\n",
    "(3*4)+5"
   ]
  },
  {
   "cell_type": "code",
   "execution_count": 4,
   "id": "5ca18eee-3a88-480d-9a39-bb4d318ec04a",
   "metadata": {},
   "outputs": [
    {
     "data": {
      "text/plain": [
       "3.3333333333333335"
      ]
     },
     "execution_count": 4,
     "metadata": {},
     "output_type": "execute_result"
    }
   ],
   "source": [
    "# Esto convertirá 200 minutos a horas dividiendo por 60.\n",
    "200/60"
   ]
  },
  {
   "cell_type": "markdown",
   "id": "b4cdf040-ca9d-4888-98d1-e2a57b2359fb",
   "metadata": {},
   "source": [
    "## Autor:  \n",
    "Yazmín Aranda Narciso"
   ]
  },
  {
   "cell_type": "code",
   "execution_count": null,
   "id": "5fe87cdd-c040-4222-ae0f-03c673bd0d42",
   "metadata": {},
   "outputs": [],
   "source": []
  }
 ],
 "metadata": {
  "kernelspec": {
   "display_name": "Python 3 (ipykernel)",
   "language": "python",
   "name": "python3"
  },
  "language_info": {
   "codemirror_mode": {
    "name": "ipython",
    "version": 3
   },
   "file_extension": ".py",
   "mimetype": "text/x-python",
   "name": "python",
   "nbconvert_exporter": "python",
   "pygments_lexer": "ipython3",
   "version": "3.12.7"
  }
 },
 "nbformat": 4,
 "nbformat_minor": 5
}
